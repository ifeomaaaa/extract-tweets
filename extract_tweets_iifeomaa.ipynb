{
  "nbformat": 4,
  "nbformat_minor": 0,
  "metadata": {
    "colab": {
      "name": "extract_tweets_iifeomaa.ipynb",
      "provenance": [],
      "authorship_tag": "ABX9TyPHAnNLXG5lILNtgQ0OwYCO"
    },
    "kernelspec": {
      "name": "python3",
      "display_name": "Python 3"
    },
    "language_info": {
      "name": "python"
    }
  },
  "cells": [
    {
      "cell_type": "code",
      "execution_count": null,
      "metadata": {
        "id": "LQ8NJs1hJrv6"
      },
      "outputs": [],
      "source": [
        "#Sentiment analysis of tweets\n",
        "#import libraries\n",
        "import tweepy as tw\n",
        "from textblob import TextBlob\n",
        "import pandas as pd\n",
        "import numpy as np\n",
        "import re\n",
        "import matplotlib.pyplot as plt\n",
        "plt.style.use('fivethirtyeight')"
      ]
    },
    {
      "cell_type": "code",
      "source": [
        "#keys\n",
        "consumer_key= 'insert'\n",
        "consumer_secret= 'insert'\n",
        "access_token= 'insert'\n",
        "access_token_secret= 'insert'"
      ],
      "metadata": {
        "id": "loix6-SOKy2D"
      },
      "execution_count": null,
      "outputs": []
    },
    {
      "cell_type": "code",
      "source": [
        "auth = tw.OAuthHandler(consumer_key, consumer_secret)\n",
        "auth.set_access_token(access_token, access_token_secret)\n",
        "api = tw.API(auth, wait_on_rate_limit=True)\n",
        " "
      ],
      "metadata": {
        "id": "0BVmqJBaNtUV"
      },
      "execution_count": null,
      "outputs": []
    },
    {
      "cell_type": "code",
      "source": [
        "#Extract 100 tweets from my account\n",
        "posts = api.user_timeline(screen_name = \"iifeomaa\", count = 7, lang =\"en\", tweet_mode=\"extended\")\n",
        "\n",
        "#Print the last 10 tweets from the account\n",
        "print(\"Show the 10 recent tweets: \\n\")\n",
        "for tweet in posts[0:10]:\n",
        "  print(tweet.full_text + '\\n')"
      ],
      "metadata": {
        "colab": {
          "base_uri": "https://localhost:8080/"
        },
        "id": "zmb-oBIQN-EL",
        "outputId": "d506a8db-2d8b-42b5-cb7e-da4a7b89af98"
      },
      "execution_count": null,
      "outputs": [
        {
          "output_type": "stream",
          "name": "stdout",
          "text": [
            "Show the 10 recent tweets: \n",
            "\n",
            "RT @Tellemmmmm: I love when athletes have their bad bitch acrylics while bagging medals.\n",
            "\n",
            "Because the things my eyes have seen this year. God safe me\n",
            "\n",
            "RT @the_momentumm: Ngl whoever fashioned this weapon against me is quite talented cos woww.\n",
            "\n",
            "I hope you’re bringing Michael Jackson 👀 https://t.co/Vi5YwriYmA\n",
            "\n",
            "Not me listening to Future because of Tems\n",
            "\n",
            "I love innovation https://t.co/uMBsj5X4E6\n",
            "\n",
            "RT @LinkedIn: little miss gives up on a job application if it requires a cover letter\n",
            "\n"
          ]
        }
      ]
    }
  ]
}